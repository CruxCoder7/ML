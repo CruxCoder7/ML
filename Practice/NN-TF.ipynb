{
 "cells": [
  {
   "cell_type": "code",
   "execution_count": 12,
   "id": "8b158e82",
   "metadata": {},
   "outputs": [],
   "source": [
    "import pandas as pd \n",
    "import matplotlib.pyplot as plt \n",
    "import tensorflow as tf\n",
    "from tensorflow.keras.models import Sequential\n",
    "from tensorflow.keras.layers import Input,Dense\n",
    "from sklearn.preprocessing import LabelEncoder, StandardScaler\n",
    "from sklearn.metrics import accuracy_score\n",
    "from sklearn.model_selection import train_test_split"
   ]
  },
  {
   "cell_type": "code",
   "execution_count": 4,
   "id": "d3542004",
   "metadata": {},
   "outputs": [],
   "source": [
    "df = pd.read_csv(r\"C:\\Users\\91755\\Downloads\\Bank_Personal_Loan_Modelling.csv\")"
   ]
  },
  {
   "cell_type": "code",
   "execution_count": 5,
   "id": "de001abc",
   "metadata": {},
   "outputs": [],
   "source": [
    "df = df.drop(['ID'],axis=1)\n",
    "x = df.drop(['Personal Loan'],axis=1).values"
   ]
  },
  {
   "cell_type": "code",
   "execution_count": 7,
   "id": "4e85f6be",
   "metadata": {},
   "outputs": [
    {
     "data": {
      "text/plain": [
       "array([[-1.77441684, -1.66607847, -0.53822878, -0.96411408,  1.39741398,\n",
       "        -0.19338544, -1.04907792, -0.55552393,  2.92891517, -0.25354028,\n",
       "        -1.21661774, -0.64531434],\n",
       "       [-0.02952359, -0.09633022, -0.8641094 , -1.44393158,  0.52599094,\n",
       "        -0.25061056, -1.04907792, -0.55552393,  2.92891517, -0.25354028,\n",
       "        -1.21661774, -0.64531434],\n",
       "       [-0.55299157, -0.44516316, -1.36379301,  0.73881384, -1.21685513,\n",
       "        -0.53673618, -1.04907792, -0.55552393, -0.34142334, -0.25354028,\n",
       "        -1.21661774, -0.64531434],\n",
       "       [-0.90197022, -0.96841258,  0.56976533,  0.45224308, -1.21685513,\n",
       "         0.43609092,  0.14170292, -0.55552393, -0.34142334, -0.25354028,\n",
       "        -1.21661774, -0.64531434],\n",
       "       [-0.90197022, -1.05562082, -0.62513027, -0.85900671,  1.39741398,\n",
       "        -0.53673618,  0.14170292, -0.55552393, -0.34142334, -0.25354028,\n",
       "        -1.21661774,  1.54963239]])"
      ]
     },
     "execution_count": 7,
     "metadata": {},
     "output_type": "execute_result"
    }
   ],
   "source": [
    "sc = StandardScaler()\n",
    "x = sc.fit_transform(x)\n",
    "x[:5]"
   ]
  },
  {
   "cell_type": "code",
   "execution_count": 9,
   "id": "572eccec",
   "metadata": {},
   "outputs": [],
   "source": [
    "y = df['Personal Loan'].values \n",
    "x_train,x_test,y_train,y_test = train_test_split(x,y,random_state=10,test_size=0.3)"
   ]
  },
  {
   "cell_type": "code",
   "execution_count": 10,
   "id": "06ff8c5f",
   "metadata": {},
   "outputs": [
    {
     "name": "stdout",
     "output_type": "stream",
     "text": [
      "(3500, 12)\n",
      "(3500,)\n",
      "(1500, 12)\n",
      "(1500,)\n"
     ]
    }
   ],
   "source": [
    "print(x_train.shape)\n",
    "print(y_train.shape)\n",
    "print(x_test.shape)\n",
    "print(y_test.shape)"
   ]
  },
  {
   "cell_type": "code",
   "execution_count": 14,
   "id": "a667c162",
   "metadata": {},
   "outputs": [],
   "source": [
    "tf.random.set_seed(7)\n",
    "model = Sequential()\n",
    "model.add(Input(shape=[12]))\n",
    "model.add(Dense(8,activation='relu'))\n",
    "model.add(Dense(4,activation='relu'))\n",
    "model.add(Dense(1,activation='sigmoid'))"
   ]
  },
  {
   "cell_type": "code",
   "execution_count": 15,
   "id": "f7bc45aa",
   "metadata": {},
   "outputs": [
    {
     "name": "stdout",
     "output_type": "stream",
     "text": [
      "Model: \"sequential\"\n",
      "_________________________________________________________________\n",
      " Layer (type)                Output Shape              Param #   \n",
      "=================================================================\n",
      " dense (Dense)               (None, 8)                 104       \n",
      "                                                                 \n",
      " dense_1 (Dense)             (None, 4)                 36        \n",
      "                                                                 \n",
      " dense_2 (Dense)             (None, 1)                 5         \n",
      "                                                                 \n",
      "=================================================================\n",
      "Total params: 145\n",
      "Trainable params: 145\n",
      "Non-trainable params: 0\n",
      "_________________________________________________________________\n"
     ]
    }
   ],
   "source": [
    "model.summary()"
   ]
  },
  {
   "cell_type": "code",
   "execution_count": 16,
   "id": "79f45a29",
   "metadata": {},
   "outputs": [],
   "source": [
    "model.compile(loss='BinaryCrossentropy',optimizer='sgd',metrics=['accuracy'])"
   ]
  },
  {
   "cell_type": "code",
   "execution_count": 17,
   "id": "7d1d75fc",
   "metadata": {},
   "outputs": [
    {
     "name": "stdout",
     "output_type": "stream",
     "text": [
      "Epoch 1/20\n",
      "110/110 [==============================] - 0s 849us/step - loss: 0.7826 - accuracy: 0.4517\n",
      "Epoch 2/20\n",
      "110/110 [==============================] - 0s 846us/step - loss: 0.5106 - accuracy: 0.8934\n",
      "Epoch 3/20\n",
      "110/110 [==============================] - 0s 938us/step - loss: 0.4194 - accuracy: 0.9026\n",
      "Epoch 4/20\n",
      "110/110 [==============================] - 0s 863us/step - loss: 0.3729 - accuracy: 0.9026\n",
      "Epoch 5/20\n",
      "110/110 [==============================] - 0s 854us/step - loss: 0.3462 - accuracy: 0.9026\n",
      "Epoch 6/20\n",
      "110/110 [==============================] - 0s 1ms/step - loss: 0.3298 - accuracy: 0.9029\n",
      "Epoch 7/20\n",
      "110/110 [==============================] - 0s 1ms/step - loss: 0.3188 - accuracy: 0.9029\n",
      "Epoch 8/20\n",
      "110/110 [==============================] - 0s 1ms/step - loss: 0.3108 - accuracy: 0.9029\n",
      "Epoch 9/20\n",
      "110/110 [==============================] - 0s 1ms/step - loss: 0.3046 - accuracy: 0.9029\n",
      "Epoch 10/20\n",
      "110/110 [==============================] - 0s 929us/step - loss: 0.2993 - accuracy: 0.9029\n",
      "Epoch 11/20\n",
      "110/110 [==============================] - 0s 874us/step - loss: 0.2946 - accuracy: 0.9029\n",
      "Epoch 12/20\n",
      "110/110 [==============================] - 0s 957us/step - loss: 0.2903 - accuracy: 0.9029\n",
      "Epoch 13/20\n",
      "110/110 [==============================] - 0s 931us/step - loss: 0.2862 - accuracy: 0.9029\n",
      "Epoch 14/20\n",
      "110/110 [==============================] - 0s 1ms/step - loss: 0.2822 - accuracy: 0.9029\n",
      "Epoch 15/20\n",
      "110/110 [==============================] - 0s 1ms/step - loss: 0.2781 - accuracy: 0.9029\n",
      "Epoch 16/20\n",
      "110/110 [==============================] - 0s 1ms/step - loss: 0.2741 - accuracy: 0.9029\n",
      "Epoch 17/20\n",
      "110/110 [==============================] - 0s 854us/step - loss: 0.2700 - accuracy: 0.9029\n",
      "Epoch 18/20\n",
      "110/110 [==============================] - 0s 833us/step - loss: 0.2657 - accuracy: 0.9029\n",
      "Epoch 19/20\n",
      "110/110 [==============================] - 0s 895us/step - loss: 0.2614 - accuracy: 0.9029\n",
      "Epoch 20/20\n",
      "110/110 [==============================] - 0s 1ms/step - loss: 0.2571 - accuracy: 0.9029\n"
     ]
    }
   ],
   "source": [
    "r = model.fit(x_train,y_train,epochs=20)"
   ]
  },
  {
   "cell_type": "code",
   "execution_count": 18,
   "id": "ba953a63",
   "metadata": {},
   "outputs": [
    {
     "name": "stdout",
     "output_type": "stream",
     "text": [
      "47/47 [==============================] - 0s 756us/step - loss: 0.2491 - accuracy: 0.9067\n",
      "Accuracy:  0.9066666960716248\n"
     ]
    }
   ],
   "source": [
    "acc = model.evaluate(x_test,y_test)\n",
    "print(\"Accuracy: \",acc[1])"
   ]
  },
  {
   "cell_type": "code",
   "execution_count": 19,
   "id": "ddc8a259",
   "metadata": {},
   "outputs": [
    {
     "data": {
      "text/plain": [
       "[<matplotlib.lines.Line2D at 0x1ffff37deb0>]"
      ]
     },
     "execution_count": 19,
     "metadata": {},
     "output_type": "execute_result"
    },
    {
     "data": {
      "image/png": "[encoded data removed]",
      "text/plain": [
       "<Figure size 432x288 with 1 Axes>"
      ]
     },
     "metadata": {
      "needs_background": "light"
     },
     "output_type": "display_data"
    }
   ],
   "source": [
    "plt.plot(r.history['accuracy'])"
   ]
  },
  {
   "cell_type": "code",
   "execution_count": 20,
   "id": "51aec65b",
   "metadata": {},
   "outputs": [
    {
     "data": {
      "text/plain": [
       "[<matplotlib.lines.Line2D at 0x1ffff49c640>]"
      ]
     },
     "execution_count": 20,
     "metadata": {},
     "output_type": "execute_result"
    },
    {
     "data": {
      "image/png": "[encoded data removed]",
      "text/plain": [
       "<Figure size 432x288 with 1 Axes>"
      ]
     },
     "metadata": {
      "needs_background": "light"
     },
     "output_type": "display_data"
    }
   ],
   "source": [
    "plt.plot(r.history['loss'])"
   ]
  },
  {
   "cell_type": "code",
   "execution_count": null,
   "id": "a617ad6e",
   "metadata": {},
   "outputs": [],
   "source": []
  }
 ],
 "metadata": {
  "kernelspec": {
   "display_name": "Python 3 (ipykernel)",
   "language": "python",
   "name": "python3"
  },
  "language_info": {
   "codemirror_mode": {
    "name": "ipython",
    "version": 3
   },
   "file_extension": ".py",
   "mimetype": "text/x-python",
   "name": "python",
   "nbconvert_exporter": "python",
   "pygments_lexer": "ipython3",
   "version": "3.9.6"
  }
 },
 "nbformat": 4,
 "nbformat_minor": 5
}
