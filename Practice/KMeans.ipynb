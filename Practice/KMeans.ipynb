{
 "cells": [
  {
   "cell_type": "code",
   "execution_count": 7,
   "metadata": {},
   "outputs": [],
   "source": [
    "import numpy as np\n",
    "\n",
    "def kmeans(X, k=3, max_iterations=100):\n",
    "    # Randomly initialize k centroids\n",
    "    centroids = X[np.random.choice(X.shape[0], k, replace=False), :]\n",
    "    \n",
    "    for i in range(max_iterations):\n",
    "        # Assign each data point to the nearest centroid\n",
    "        distances = np.sqrt(((X - centroids[:, np.newaxis])**2).sum(axis=2))\n",
    "        labels = np.argmin(distances, axis=0)\n",
    "        \n",
    "        # Update centroids to be the mean of the data points assigned to them\n",
    "        new_centroids = np.zeros((k, X.shape[1]))\n",
    "        for j in range(k):\n",
    "            new_centroids[j, :] = np.mean(X[labels == j, :], axis=0)\n",
    "        \n",
    "        # Check for convergence\n",
    "        if np.allclose(centroids, new_centroids):\n",
    "            break\n",
    "        \n",
    "        centroids = new_centroids\n",
    "    \n",
    "    return labels, centroids\n"
   ]
  },
  {
   "cell_type": "code",
   "execution_count": 8,
   "metadata": {},
   "outputs": [
    {
     "name": "stdout",
     "output_type": "stream",
     "text": [
      "[1 0 0 1 0 2 0 1 0 0 0 2 0 2 1 2 0 1 2 1 2 1 1 0 2 2 2 0 0 2 1 0 1 2 0 1 2\n",
      " 0 1 0 1 1 2 1 2 2 2 2 0 1 0 2 1 0 1 2 0 2 1 2 2 2 0 2 2 1 1 1 1 0 1 2 1 1\n",
      " 0 0 0 0 1 1 1 1 1 1 0 2 1 1 0 2 1 1 1 0 1 1 2 1 2 1] [[0.19663157 0.5918182  0.2065312 ]\n",
      " [0.66025821 0.2861508  0.5527083 ]\n",
      " [0.48189673 0.79971324 0.6473104 ]]\n"
     ]
    }
   ],
   "source": [
    "X = np.random.rand(100, 3)\n",
    "lab,cen = kmeans(X)\n",
    "print(lab,cen)"
   ]
  },
  {
   "cell_type": "code",
   "execution_count": null,
   "metadata": {},
   "outputs": [],
   "source": []
  }
 ],
 "metadata": {
  "kernelspec": {
   "display_name": "Python 3.9.6 64-bit",
   "language": "python",
   "name": "python3"
  },
  "language_info": {
   "codemirror_mode": {
    "name": "ipython",
    "version": 3
   },
   "file_extension": ".py",
   "mimetype": "text/x-python",
   "name": "python",
   "nbconvert_exporter": "python",
   "pygments_lexer": "ipython3",
   "version": "3.9.6"
  },
  "orig_nbformat": 4,
  "vscode": {
   "interpreter": {
    "hash": "11938c6bc6919ae2720b4d5011047913343b08a43b18698fd82dedb0d4417594"
   }
  }
 },
 "nbformat": 4,
 "nbformat_minor": 2
}
