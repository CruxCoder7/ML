{
  "cells": [
    {
      "cell_type": "code",
      "execution_count": 40,
      "metadata": {
        "id": "eZGjSlozPqAe"
      },
      "outputs": [],
      "source": [
        "import tensorflow as tf\n",
        "import matplotlib.pyplot as plt\n",
        "import numpy as np\n",
        "from sklearn.metrics import confusion_matrix\n",
        "import itertools\n"
      ]
    },
    {
      "cell_type": "code",
      "execution_count": 10,
      "metadata": {
        "id": "eZ7x4nPpQFNi"
      },
      "outputs": [],
      "source": [
        "mnist=tf.keras.datasets.mnist"
      ]
    },
    {
      "cell_type": "code",
      "execution_count": 11,
      "metadata": {
        "colab": {
          "base_uri": "https://localhost:8080/"
        },
        "id": "zG6cmRHRQdQN",
        "outputId": "8eb04494-0f4e-4e62-e2a6-44eca8b593ab"
      },
      "outputs": [],
      "source": [
        "(x_train,y_train),(x_test,y_test)=mnist.load_data()"
      ]
    },
    {
      "cell_type": "code",
      "execution_count": 12,
      "metadata": {
        "colab": {
          "base_uri": "https://localhost:8080/"
        },
        "id": "gid1m06xQl7F",
        "outputId": "7885ca28-c0a3-4cfd-8574-7879eb98b9cf"
      },
      "outputs": [
        {
          "data": {
            "text/plain": [
              "(60000, 28, 28)"
            ]
          },
          "execution_count": 12,
          "metadata": {},
          "output_type": "execute_result"
        }
      ],
      "source": [
        "x_train=x_train/255.0\n",
        "x_test=x_test/255.0\n",
        "x_train.shape\n",
        "# y_test[:10]"
      ]
    },
    {
      "cell_type": "code",
      "execution_count": 13,
      "metadata": {
        "colab": {
          "base_uri": "https://localhost:8080/",
          "height": 447
        },
        "id": "26Iv5QcXyFZr",
        "outputId": "c7bcf8bb-9c06-4786-966d-5ebbe37da42f"
      },
      "outputs": [
        {
          "data": {
            "text/plain": [
              "<matplotlib.image.AxesImage at 0x17b1a998070>"
            ]
          },
          "execution_count": 13,
          "metadata": {},
          "output_type": "execute_result"
        },
        {
          "data": {
            "image/png": "[encoded data removed]",
            "text/plain": [
              "<Figure size 432x288 with 1 Axes>"
            ]
          },
          "metadata": {
            "needs_background": "light"
          },
          "output_type": "display_data"
        }
      ],
      "source": [
        "plt.imshow(x_test[10],cmap='gray')\n",
        "# plt.savefig(\"new10.png\")"
      ]
    },
    {
      "cell_type": "code",
      "execution_count": 14,
      "metadata": {
        "id": "dGtmaSMeQzBM"
      },
      "outputs": [],
      "source": [
        "##  ANN\n",
        "\n",
        "model=tf.keras.Sequential([\n",
        "    tf.keras.layers.Flatten(input_shape=(28,28)),\n",
        "    tf.keras.layers.Dense(128,activation='relu'),\n",
        "    tf.keras.layers.Dropout(0.2),\n",
        "    tf.keras.layers.Dense(10,activation='softmax')\n",
        "])"
      ]
    },
    {
      "cell_type": "code",
      "execution_count": 15,
      "metadata": {
        "id": "e2QF0mPwTMSo"
      },
      "outputs": [],
      "source": [
        "# #  CNN\n",
        "\n",
        "# model = models.Sequential()\n",
        "# model.add(layers.Conv2D(32, (3, 3), activation='relu', input_shape=(28,28,1)))\n",
        "# model.add(layers.MaxPooling2D((2, 2)))\n",
        "# model.add(layers.Conv2D(64, (3, 3), activation='relu'))\n",
        "# model.add(layers.MaxPooling2D((2, 2)))\n",
        "# model.add(layers.Conv2D(64, (3, 3), activation='relu'))"
      ]
    },
    {
      "cell_type": "code",
      "execution_count": 16,
      "metadata": {
        "colab": {
          "base_uri": "https://localhost:8080/"
        },
        "id": "tPQL9vS-Rdkr",
        "outputId": "01cdaf18-8444-4962-8a19-f8f7bb8b8ec8"
      },
      "outputs": [
        {
          "name": "stdout",
          "output_type": "stream",
          "text": [
            "Epoch 1/10\n",
            "1875/1875 [==============================] - 6s 3ms/step - loss: 0.2996 - accuracy: 0.9122 - val_loss: 0.1452 - val_accuracy: 0.9587\n",
            "Epoch 2/10\n",
            "1875/1875 [==============================] - 5s 2ms/step - loss: 0.1459 - accuracy: 0.9574 - val_loss: 0.1000 - val_accuracy: 0.9694\n",
            "Epoch 3/10\n",
            "1875/1875 [==============================] - 6s 3ms/step - loss: 0.1095 - accuracy: 0.9666 - val_loss: 0.0867 - val_accuracy: 0.9747\n",
            "Epoch 4/10\n",
            "1875/1875 [==============================] - 4s 2ms/step - loss: 0.0892 - accuracy: 0.9722 - val_loss: 0.0809 - val_accuracy: 0.9756\n",
            "Epoch 5/10\n",
            "1875/1875 [==============================] - 5s 3ms/step - loss: 0.0745 - accuracy: 0.9762 - val_loss: 0.0757 - val_accuracy: 0.9766\n",
            "Epoch 6/10\n",
            "1875/1875 [==============================] - 5s 3ms/step - loss: 0.0659 - accuracy: 0.9791 - val_loss: 0.0681 - val_accuracy: 0.9792\n",
            "Epoch 7/10\n",
            "1875/1875 [==============================] - 5s 2ms/step - loss: 0.0587 - accuracy: 0.9817 - val_loss: 0.0709 - val_accuracy: 0.9792\n",
            "Epoch 8/10\n",
            "1875/1875 [==============================] - 5s 3ms/step - loss: 0.0531 - accuracy: 0.9826 - val_loss: 0.0742 - val_accuracy: 0.9783\n",
            "Epoch 9/10\n",
            "1875/1875 [==============================] - 4s 2ms/step - loss: 0.0474 - accuracy: 0.9845 - val_loss: 0.0725 - val_accuracy: 0.9795\n",
            "Epoch 10/10\n",
            "1875/1875 [==============================] - 5s 3ms/step - loss: 0.0448 - accuracy: 0.9847 - val_loss: 0.0703 - val_accuracy: 0.9793\n"
          ]
        }
      ],
      "source": [
        "model.compile(optimizer='adam',loss='sparse_categorical_crossentropy',metrics=['accuracy'])\n",
        "\n",
        "r=model.fit(x_train,y_train,validation_data=(x_test,y_test),epochs=10)"
      ]
    },
    {
      "cell_type": "code",
      "execution_count": 17,
      "metadata": {
        "colab": {
          "base_uri": "https://localhost:8080/",
          "height": 447
        },
        "id": "o6Qi4ScIR_8Z",
        "outputId": "24d8f26e-e970-4255-e218-c6475a2c6156"
      },
      "outputs": [
        {
          "data": {
            "text/plain": [
              "<matplotlib.legend.Legend at 0x17b34dd6700>"
            ]
          },
          "execution_count": 17,
          "metadata": {},
          "output_type": "execute_result"
        },
        {
          "data": {
            "image/png": "[encoded data removed]",
            "text/plain": [
              "<Figure size 432x288 with 1 Axes>"
            ]
          },
          "metadata": {
            "needs_background": "light"
          },
          "output_type": "display_data"
        }
      ],
      "source": [
        "plt.plot(r.history['loss'],label='loss')\n",
        "# plt.plot(r.history['val_loss'],label='val_loss')\n",
        "plt.legend()"
      ]
    },
    {
      "cell_type": "code",
      "execution_count": 18,
      "metadata": {
        "colab": {
          "base_uri": "https://localhost:8080/",
          "height": 447
        },
        "id": "4tFTPun8Sn2I",
        "outputId": "16b9a925-8df3-4d32-b0bf-fb0755463639"
      },
      "outputs": [
        {
          "data": {
            "text/plain": [
              "<matplotlib.legend.Legend at 0x17b6f1f7610>"
            ]
          },
          "execution_count": 18,
          "metadata": {},
          "output_type": "execute_result"
        },
        {
          "data": {
            "image/png": "[encoded data removed]",
            "text/plain": [
              "<Figure size 432x288 with 1 Axes>"
            ]
          },
          "metadata": {
            "needs_background": "light"
          },
          "output_type": "display_data"
        }
      ],
      "source": [
        "plt.plot(r.history['accuracy'],label='accuracy')\n",
        "# plt.plot(r.history['val_accuracy'],label='val_accuracy')\n",
        "plt.legend()"
      ]
    },
    {
      "cell_type": "code",
      "execution_count": 19,
      "metadata": {
        "colab": {
          "base_uri": "https://localhost:8080/"
        },
        "id": "Ymy5XeJDS0Ey",
        "outputId": "f0017176-8efe-4ebd-ecdb-79159f439513"
      },
      "outputs": [
        {
          "name": "stdout",
          "output_type": "stream",
          "text": [
            "313/313 [==============================] - 1s 3ms/step - loss: 0.0703 - accuracy: 0.9793\n",
            "Accuracy :  0.9793000221252441\n"
          ]
        }
      ],
      "source": [
        "eval=model.evaluate(x_test,y_test)\n",
        "print(\"Accuracy : \", eval[1])"
      ]
    },
    {
      "cell_type": "code",
      "execution_count": 20,
      "metadata": {
        "colab": {
          "base_uri": "https://localhost:8080/"
        },
        "id": "2GPOPzRf1H0S",
        "outputId": "136ef90d-a6dc-4bf9-f01a-b46169a19c1d"
      },
      "outputs": [
        {
          "name": "stdout",
          "output_type": "stream",
          "text": [
            "313/313 [==============================] - 1s 2ms/step\n",
            "[[ 968    1    0    1    1    1    3    3    2    0]\n",
            " [   0 1128    3    1    0    0    1    0    2    0]\n",
            " [   3    0 1013    3    2    0    1    6    4    0]\n",
            " [   0    0    6  988    0    3    0    5    4    4]\n",
            " [   0    0    5    0  958    0    4    4    3    8]\n",
            " [   2    0    0   12    1  860    4    1    8    4]\n",
            " [   4    3    0    1    3    2  941    0    4    0]\n",
            " [   0    6    7    2    0    0    0 1007    3    3]\n",
            " [   2    1    2    4    6    1    1    4  952    1]\n",
            " [   1    4    0    6    6    1    0    9    4  978]]\n"
          ]
        }
      ],
      "source": [
        "from sklearn.metrics import confusion_matrix\n",
        "p_test=model.predict(x_test).argmax(axis=1)\n",
        "cm=confusion_matrix(y_test,p_test)\n",
        "print(cm)"
      ]
    },
    {
      "cell_type": "code",
      "execution_count": 21,
      "metadata": {
        "id": "zIc18Vsd-eqv"
      },
      "outputs": [],
      "source": [
        "np.save('my_history.npy',r.history)"
      ]
    },
    {
      "cell_type": "code",
      "execution_count": 22,
      "metadata": {
        "id": "VBrhkpCyXC3P"
      },
      "outputs": [],
      "source": [
        "# def plot_confusion_matrix(cm,classes,normalize=False,title='Confusion matrix',cmap=plt.cm.Blues):\n",
        "#   if normalize:\n",
        "#     cm=cm.astype('float')/cm.sum(axis=1)[:,np.newaxis]\n",
        "  \n",
        "\n",
        "#   plt.imshow(cm,interpolation='nearest',cmap=cmap)\n",
        "#   plt.title(title)\n",
        "#   plt.colorbar()\n",
        "#   tick_marks=np.arange(len(classes))\n",
        "#   plt.xticks(tick_marks,classes,rotation=45)\n",
        "#   plt.yticks(tick_marks,classes)\n",
        "\n",
        "#   fmt='.2f' if normalize else 'd'\n",
        "#   thresh=cm.max()/.2\n",
        "#   for i,j in itertools.product(range(cm.shape[0]),range(cm.shape[1])):\n",
        "#     plt.text(j,i,format(cm[i,j],fmt),\n",
        "#              ha=\"center\",\n",
        "#              color='white' if cm[i,j]> thresh else 'black')\n",
        "\n",
        "#   plt.tight_layout()\n",
        "#   plt.ylabel('True label')\n",
        "#   plt.xlabel('predicted label')\n",
        "#   plt.show\n",
        "\n",
        "# p_test=model.predict(x_test).argmax(axis=1)\n",
        "# cm=confusion_matrix(y_test,p_test)\n",
        "# # print(cm)\n",
        "# plot_confusion_matrix(cm,list(range(10)))"
      ]
    },
    {
      "cell_type": "code",
      "execution_count": 23,
      "metadata": {
        "colab": {
          "base_uri": "https://localhost:8080/",
          "height": 469
        },
        "id": "qla6Ek5CcrWh",
        "outputId": "a4789509-279c-4ae4-8fc1-e118b22c3806"
      },
      "outputs": [
        {
          "data": {
            "text/plain": [
              "Text(0.5, 1.0, 'True label: 1 Predicted: 8 ')"
            ]
          },
          "execution_count": 23,
          "metadata": {},
          "output_type": "execute_result"
        },
        {
          "data": {
            "image/png": "[encoded data removed]",
            "text/plain": [
              "<Figure size 432x288 with 1 Axes>"
            ]
          },
          "metadata": {
            "needs_background": "light"
          },
          "output_type": "display_data"
        }
      ],
      "source": [
        "misclassified_idx=np.where(p_test!=y_test)[0]\n",
        "# misclassified_idx[:10]\n",
        "i=np.random.choice(misclassified_idx)\n",
        "plt.imshow(x_test[i])\n",
        "plt.title('True label: %s Predicted: %s '%(y_test[i],p_test[i]))"
      ]
    },
    {
      "cell_type": "code",
      "execution_count": 39,
      "metadata": {
        "colab": {
          "base_uri": "https://localhost:8080/"
        },
        "id": "mvJaJXInjH0l",
        "outputId": "18deefce-4fd6-431d-ea3e-e37f4a7ead80"
      },
      "outputs": [
        {
          "name": "stdout",
          "output_type": "stream",
          "text": [
            "1/1 [==============================] - 0s 19ms/step\n"
          ]
        },
        {
          "data": {
            "text/plain": [
              "0"
            ]
          },
          "execution_count": 39,
          "metadata": {},
          "output_type": "execute_result"
        }
      ],
      "source": [
        "y = model.predict(x_train[1]).argmax(axis=1)"
      ]
    },
    {
      "cell_type": "code",
      "execution_count": 24,
      "metadata": {
        "id": "0W2Us2WeqkYj"
      },
      "outputs": [],
      "source": [
        "model.save('model.h5')"
      ]
    },
    {
      "cell_type": "code",
      "execution_count": 25,
      "metadata": {
        "id": "42Fym8LdqpDW"
      },
      "outputs": [],
      "source": [
        "# np.save()"
      ]
    }
  ],
  "metadata": {
    "accelerator": "GPU",
    "colab": {
      "provenance": []
    },
    "gpuClass": "standard",
    "kernelspec": {
      "display_name": "Python 3.9.6 64-bit",
      "language": "python",
      "name": "python3"
    },
    "language_info": {
      "codemirror_mode": {
        "name": "ipython",
        "version": 3
      },
      "file_extension": ".py",
      "mimetype": "text/x-python",
      "name": "python",
      "nbconvert_exporter": "python",
      "pygments_lexer": "ipython3",
      "version": "3.9.6"
    },
    "vscode": {
      "interpreter": {
        "hash": "11938c6bc6919ae2720b4d5011047913343b08a43b18698fd82dedb0d4417594"
      }
    }
  },
  "nbformat": 4,
  "nbformat_minor": 0
}
