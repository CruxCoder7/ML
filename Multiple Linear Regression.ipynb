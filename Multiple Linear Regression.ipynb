{
 "cells": [
  {
   "cell_type": "code",
   "execution_count": 1,
   "id": "978c7736",
   "metadata": {},
   "outputs": [],
   "source": [
    "import numpy as np\n",
    "import pandas as pd\n",
    "import matplotlib.pyplot as plt\n",
    "from statsmodels.stats.outliers_influence import variance_inflation_factor\n"
   ]
  },
  {
   "cell_type": "code",
   "execution_count": 2,
   "id": "170cfce6",
   "metadata": {},
   "outputs": [],
   "source": [
    "data = pd.read_csv(\"Datasets/mul_regression.csv\")\n",
    "data = pd.concat([data,pd.get_dummies(data[\"State\"],drop_first=True)],axis = 1).drop([\"State\"],axis=1)\n",
    "data = data[['R&D Spend', 'Administration', 'Marketing Spend', 'Florida', 'New York', 'Profit']]"
   ]
  },
  {
   "cell_type": "code",
   "execution_count": 3,
   "id": "4845ad82",
   "metadata": {},
   "outputs": [
    {
     "name": "stdout",
     "output_type": "stream",
     "text": [
      "Data Shape : (50, 6)\n"
     ]
    },
    {
     "data": {
      "text/html": [
       "<div>\n",
       "<style scoped>\n",
       "    .dataframe tbody tr th:only-of-type {\n",
       "        vertical-align: middle;\n",
       "    }\n",
       "\n",
       "    .dataframe tbody tr th {\n",
       "        vertical-align: top;\n",
       "    }\n",
       "\n",
       "    .dataframe thead th {\n",
       "        text-align: right;\n",
       "    }\n",
       "</style>\n",
       "<table border=\"1\" class=\"dataframe\">\n",
       "  <thead>\n",
       "    <tr style=\"text-align: right;\">\n",
       "      <th></th>\n",
       "      <th>R&amp;D Spend</th>\n",
       "      <th>Administration</th>\n",
       "      <th>Marketing Spend</th>\n",
       "      <th>Florida</th>\n",
       "      <th>New York</th>\n",
       "      <th>Profit</th>\n",
       "    </tr>\n",
       "  </thead>\n",
       "  <tbody>\n",
       "    <tr>\n",
       "      <th>0</th>\n",
       "      <td>165349.20</td>\n",
       "      <td>136897.80</td>\n",
       "      <td>471784.10</td>\n",
       "      <td>0</td>\n",
       "      <td>1</td>\n",
       "      <td>192261.83</td>\n",
       "    </tr>\n",
       "    <tr>\n",
       "      <th>1</th>\n",
       "      <td>162597.70</td>\n",
       "      <td>151377.59</td>\n",
       "      <td>443898.53</td>\n",
       "      <td>0</td>\n",
       "      <td>0</td>\n",
       "      <td>191792.06</td>\n",
       "    </tr>\n",
       "    <tr>\n",
       "      <th>2</th>\n",
       "      <td>153441.51</td>\n",
       "      <td>101145.55</td>\n",
       "      <td>407934.54</td>\n",
       "      <td>1</td>\n",
       "      <td>0</td>\n",
       "      <td>191050.39</td>\n",
       "    </tr>\n",
       "    <tr>\n",
       "      <th>3</th>\n",
       "      <td>144372.41</td>\n",
       "      <td>118671.85</td>\n",
       "      <td>383199.62</td>\n",
       "      <td>0</td>\n",
       "      <td>1</td>\n",
       "      <td>182901.99</td>\n",
       "    </tr>\n",
       "    <tr>\n",
       "      <th>4</th>\n",
       "      <td>142107.34</td>\n",
       "      <td>91391.77</td>\n",
       "      <td>366168.42</td>\n",
       "      <td>1</td>\n",
       "      <td>0</td>\n",
       "      <td>166187.94</td>\n",
       "    </tr>\n",
       "  </tbody>\n",
       "</table>\n",
       "</div>"
      ],
      "text/plain": [
       "   R&D Spend  Administration  Marketing Spend  Florida  New York     Profit\n",
       "0  165349.20       136897.80        471784.10        0         1  192261.83\n",
       "1  162597.70       151377.59        443898.53        0         0  191792.06\n",
       "2  153441.51       101145.55        407934.54        1         0  191050.39\n",
       "3  144372.41       118671.85        383199.62        0         1  182901.99\n",
       "4  142107.34        91391.77        366168.42        1         0  166187.94"
      ]
     },
     "execution_count": 3,
     "metadata": {},
     "output_type": "execute_result"
    }
   ],
   "source": [
    "print(\"Data Shape :\", data.shape)\n",
    "data.head()"
   ]
  },
  {
   "cell_type": "code",
   "execution_count": 4,
   "id": "2e2be9d3",
   "metadata": {},
   "outputs": [
    {
     "name": "stdout",
     "output_type": "stream",
     "text": [
      "          features        vif\n",
      "0        R&D Spend   2.495511\n",
      "1   Administration   1.177766\n",
      "2  Marketing Spend   2.416797\n",
      "3          Florida   1.387641\n",
      "4         New York   1.335061\n",
      "5        Intercept  26.600153\n"
     ]
    }
   ],
   "source": [
    "# VIF\n",
    "def VIF(df):\n",
    "    \n",
    "    df[\"Intercept\"] = 1\n",
    "    \n",
    "    vif = pd.DataFrame()\n",
    "    vif[\"features\"] = df.columns\n",
    "    vif[\"vif\"] = [variance_inflation_factor(df.values,i) for i in range(df.shape[1])]\n",
    "    \n",
    "    print(vif)\n",
    "VIF(data.iloc[:,:-1])"
   ]
  },
  {
   "cell_type": "code",
   "execution_count": 5,
   "id": "a23d23d4",
   "metadata": {},
   "outputs": [],
   "source": [
    "x = data.iloc[:,:-1].values\n",
    "y = data.iloc[:,-1].values"
   ]
  },
  {
   "cell_type": "code",
   "execution_count": 6,
   "id": "b8fa13b4",
   "metadata": {},
   "outputs": [],
   "source": [
    "from sklearn.model_selection import train_test_split\n",
    "\n",
    "x_train, x_test, y_train, y_test = train_test_split(x,y,test_size=0.2,random_state=69)"
   ]
  },
  {
   "cell_type": "code",
   "execution_count": 7,
   "id": "e66822ed",
   "metadata": {},
   "outputs": [],
   "source": [
    "from sklearn.preprocessing import StandardScaler\n",
    "\n",
    "scalar = StandardScaler()\n",
    "x_train = scalar.fit_transform(x_train)\n",
    "x_test = scalar.transform(x_test)"
   ]
  },
  {
   "cell_type": "code",
   "execution_count": 8,
   "id": "d9ffe95a",
   "metadata": {},
   "outputs": [
    {
     "name": "stdout",
     "output_type": "stream",
     "text": [
      "MAE :  5710.680304584757\n",
      "MSE :  41800093.882743955\n",
      "RMSE :  6465.299210612294\n",
      "R2 Score :  0.9794089137854665\n",
      "Mean Percentage Error :  5.156014025053556\n"
     ]
    }
   ],
   "source": [
    "# Sklearn Implementation\n",
    "\n",
    "from sklearn.linear_model import LinearRegression\n",
    "\n",
    "# Training\n",
    "model = LinearRegression()\n",
    "model.fit(x_train, y_train)\n",
    "\n",
    "# Prediction\n",
    "y_pred = model.predict(x_test)\n",
    "\n",
    "# Errors \n",
    "from sklearn.metrics import mean_absolute_error,mean_squared_error,r2_score,mean_absolute_percentage_error\n",
    "import math\n",
    "\n",
    "print(\"MAE : \",mean_absolute_error(y_test,y_pred))\n",
    "print(\"MSE : \",mean_squared_error(y_test,y_pred))\n",
    "print(\"RMSE : \",math.sqrt(mean_squared_error(y_test,y_pred)))\n",
    "print(\"R2 Score : \",r2_score(y_test,y_pred))\n",
    "print(\"Mean Percentage Error : \",mean_absolute_percentage_error(y_test,y_pred)*100)"
   ]
  },
  {
   "cell_type": "code",
   "execution_count": 9,
   "id": "276e9ea9",
   "metadata": {},
   "outputs": [
    {
     "name": "stdout",
     "output_type": "stream",
     "text": [
      "[35221.10092278 -1525.37939581  3304.74543974   657.85492598\n",
      "   215.12055796] 110364.04274999998\n"
     ]
    }
   ],
   "source": [
    "# From Scratch\n",
    "\n",
    "print(model.coef_, model.intercept_)\n",
    "\n",
    "def GradientDescent(x,y,lr=0.01):\n",
    "    m = np.zeros(x.shape[1])\n",
    "    c = 0\n",
    "    \n",
    "    epochs = 1000\n",
    "    loss = [0]*epochs\n",
    "    for epoch in range(epochs):\n",
    "        # Predict \n",
    "        y_pred = np.dot(x,m) + c\n",
    "        \n",
    "        # Loss\n",
    "        error = y_pred - y\n",
    "        \n",
    "        # Gradient\n",
    "        m_grad = np.dot(x.T,error) / len(y)\n",
    "        c_grad = np.sum(error) / len(y)\n",
    "        \n",
    "        # Update parameters\n",
    "        m -= lr*m_grad\n",
    "        c -= lr*c_grad\n",
    "        \n",
    "        loss[epoch] = np.sum((((x.dot(m) + c) - y) ** 2) / (len(y)))\n",
    "    \n",
    "    plt.plot(loss)\n",
    "    plt.title(\"Loss Graph\")\n",
    "    plt.show()\n",
    "    \n",
    "    return m, c"
   ]
  },
  {
   "cell_type": "code",
   "execution_count": 10,
   "id": "8319af86",
   "metadata": {},
   "outputs": [
    {
     "data": {
      "image/png": "[encoded data removed]",
      "text/plain": [
       "<Figure size 640x480 with 1 Axes>"
      ]
     },
     "metadata": {},
     "output_type": "display_data"
    }
   ],
   "source": [
    "# Training\n",
    "w, b = GradientDescent(x_train, y_train)"
   ]
  },
  {
   "cell_type": "code",
   "execution_count": 11,
   "id": "9ca7578d",
   "metadata": {},
   "outputs": [
    {
     "name": "stdout",
     "output_type": "stream",
     "text": [
      "MAE :  5244.536903236069\n",
      "MSE :  40981285.90681973\n",
      "RMSE :  6401.662745476345\n",
      "R2 Score :  0.9798122656456967\n",
      "Mean Percentage Error :  4.774751427545628\n"
     ]
    }
   ],
   "source": [
    "# Predcition \n",
    "y_pred = np.dot(x_test,w) + b\n",
    "\n",
    "# Errors \n",
    "from sklearn.metrics import mean_absolute_error,mean_squared_error,r2_score,mean_absolute_percentage_error\n",
    "import math\n",
    "\n",
    "print(\"MAE : \",mean_absolute_error(y_test,y_pred))\n",
    "print(\"MSE : \",mean_squared_error(y_test,y_pred))\n",
    "print(\"RMSE : \",math.sqrt(mean_squared_error(y_test,y_pred)))\n",
    "print(\"R2 Score : \",r2_score(y_test,y_pred))\n",
    "print(\"Mean Percentage Error : \",mean_absolute_percentage_error(y_test,y_pred)*100)"
   ]
  }
 ],
 "metadata": {
  "kernelspec": {
   "display_name": "Python 3.9.6 64-bit",
   "language": "python",
   "name": "python3"
  },
  "language_info": {
   "codemirror_mode": {
    "name": "ipython",
    "version": 3
   },
   "file_extension": ".py",
   "mimetype": "text/x-python",
   "name": "python",
   "nbconvert_exporter": "python",
   "pygments_lexer": "ipython3",
   "version": "3.9.6"
  },
  "vscode": {
   "interpreter": {
    "hash": "11938c6bc6919ae2720b4d5011047913343b08a43b18698fd82dedb0d4417594"
   }
  }
 },
 "nbformat": 4,
 "nbformat_minor": 5
}
