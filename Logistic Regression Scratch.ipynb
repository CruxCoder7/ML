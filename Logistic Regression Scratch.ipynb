{
 "cells": [
  {
   "cell_type": "code",
   "execution_count": 14,
   "id": "0830a803",
   "metadata": {},
   "outputs": [],
   "source": [
    "import numpy as np\n",
    "from sklearn.datasets import load_breast_cancer\n",
    "from sklearn.model_selection import train_test_split\n",
    "from sklearn.metrics import accuracy_score\n",
    "import pandas as pd\n",
    "import warnings\n",
    "warnings.filterwarnings('ignore')\n"
   ]
  },
  {
   "cell_type": "code",
   "execution_count": 15,
   "id": "97d24fed",
   "metadata": {},
   "outputs": [],
   "source": [
    "data = load_breast_cancer()"
   ]
  },
  {
   "cell_type": "code",
   "execution_count": 16,
   "id": "ba18804a",
   "metadata": {},
   "outputs": [],
   "source": [
    "X_train, X_test, y_train, y_test = train_test_split(data.data, data.target, test_size=0.2, random_state=1)"
   ]
  },
  {
   "cell_type": "code",
   "execution_count": 17,
   "id": "26e22877",
   "metadata": {},
   "outputs": [],
   "source": [
    "# Step 2: Initialize the model parameters\n",
    "theta = np.zeros(X_train.shape[1])"
   ]
  },
  {
   "cell_type": "code",
   "execution_count": 18,
   "id": "4c6327f4",
   "metadata": {},
   "outputs": [],
   "source": [
    "# Step 3: Define the sigmoid activation function\n",
    "def sigmoid(z):\n",
    "    return 1 / (1 + np.exp(-z))\n"
   ]
  },
  {
   "cell_type": "code",
   "execution_count": 19,
   "id": "268d7209",
   "metadata": {},
   "outputs": [],
   "source": [
    "# Step 4: Implement the cost function\n",
    "def cost_function(X, y, theta):\n",
    "    m = len(y)\n",
    "    h = sigmoid(np.dot(X, theta))\n",
    "    cost = (-1/m) * np.sum(y*np.log(h) + (1-y)*np.log(1-h))\n",
    "    return cost\n"
   ]
  },
  {
   "cell_type": "code",
   "execution_count": 20,
   "id": "08d80a4e",
   "metadata": {},
   "outputs": [],
   "source": [
    "# Step 5: Implement gradient descent to update the model parameters\n",
    "def gradient_descent(X, y, theta, alpha, num_iters):\n",
    "    m = len(y)\n",
    "    J_history = []\n",
    "    \n",
    "    for i in range(num_iters):\n",
    "        h = sigmoid(np.dot(X, theta))\n",
    "        theta = theta - (alpha/m) * np.dot(X.T, h-y)\n",
    "        J_history.append(cost_function(X, y, theta))\n",
    "    \n",
    "    return theta, J_history"
   ]
  },
  {
   "cell_type": "code",
   "execution_count": 21,
   "id": "e9b4b83d",
   "metadata": {},
   "outputs": [],
   "source": [
    "# Step 6: Train the model on the training set\n",
    "alpha = 0.01\n",
    "num_iters = 1000\n",
    "theta, J_history = gradient_descent(X_train, y_train, theta, alpha, num_iters)\n"
   ]
  },
  {
   "cell_type": "code",
   "execution_count": 22,
   "id": "660f8e3f",
   "metadata": {},
   "outputs": [],
   "source": [
    "# Step 7: Make predictions on the testing set\n",
    "y_pred = np.round(sigmoid(np.dot(X_test, theta)))"
   ]
  },
  {
   "cell_type": "code",
   "execution_count": 23,
   "id": "e3d45b5b",
   "metadata": {},
   "outputs": [],
   "source": [
    "accuracy = accuracy_score(y_test, y_pred)"
   ]
  },
  {
   "cell_type": "code",
   "execution_count": 24,
   "id": "269952df",
   "metadata": {},
   "outputs": [
    {
     "data": {
      "text/plain": [
       "0.8859649122807017"
      ]
     },
     "execution_count": 24,
     "metadata": {},
     "output_type": "execute_result"
    }
   ],
   "source": [
    "accuracy"
   ]
  }
 ],
 "metadata": {
  "kernelspec": {
   "display_name": "Python 3.9.6 64-bit",
   "language": "python",
   "name": "python3"
  },
  "language_info": {
   "codemirror_mode": {
    "name": "ipython",
    "version": 3
   },
   "file_extension": ".py",
   "mimetype": "text/x-python",
   "name": "python",
   "nbconvert_exporter": "python",
   "pygments_lexer": "ipython3",
   "version": "3.9.6"
  },
  "vscode": {
   "interpreter": {
    "hash": "11938c6bc6919ae2720b4d5011047913343b08a43b18698fd82dedb0d4417594"
   }
  }
 },
 "nbformat": 4,
 "nbformat_minor": 5
}
